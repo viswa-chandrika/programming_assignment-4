{
 "cells": [
  {
   "cell_type": "code",
   "execution_count": 1,
   "id": "2d4a8015-9d06-4bb0-957c-0b12462881ba",
   "metadata": {},
   "outputs": [],
   "source": [
    "import numpy as np\n",
    "import pandas as pd\n",
    "import os\n",
    "import cv2\n",
    "\n",
    "import warnings\n",
    "warnings.filterwarnings(\"ignore\")"
   ]
  },
  {
   "cell_type": "code",
   "execution_count": 2,
   "id": "c229fb06-21bb-4462-a40a-0edd7e3fd577",
   "metadata": {},
   "outputs": [],
   "source": [
    "CROPPED_PATH =  'cp'\n"
   ]
  },
  {
   "cell_type": "code",
   "execution_count": 3,
   "id": "b8a9dbdd-db28-41ae-94c5-808401bd0d64",
   "metadata": {},
   "outputs": [],
   "source": [
    "import torch \n",
    "from torch import nn\n",
    "from PIL import Image\n",
    "from torchvision import transforms"
   ]
  },
  {
   "cell_type": "code",
   "execution_count": 7,
   "id": "db5cdc9a-010b-434e-bc5c-3ae1cb5dd8e1",
   "metadata": {},
   "outputs": [],
   "source": [
    "clean = transforms.Compose([\n",
    "    transforms.Resize((224, 224)),\n",
    "    transforms.ToTensor(),\n",
    "    transforms.Normalize(mean=[0.485, 0.456, 0.406], std=[0.229, 0.224, 0.225]),\n",
    "])"
   ]
  },
  {
   "cell_type": "code",
   "execution_count": 9,
   "id": "727620c5-b75f-48c6-8a39-062cfad7331b",
   "metadata": {},
   "outputs": [],
   "source": [
    "import torchvision\n",
    "resnet18=torchvision.models.resnet18(pretrained=True)\n",
    "resnet18_ls=nn.Sequential(\n",
    "    *(list(resnet18.children())[:-1])\n",
    ")"
   ]
  },
  {
   "cell_type": "code",
   "execution_count": 10,
   "id": "01044cd3-d8cb-4a23-a273-67ddd8917e8b",
   "metadata": {},
   "outputs": [],
   "source": [
    "def get_images_and_breeds(path):\n",
    "    breeds= []\n",
    "    images = []\n",
    "    for i,name in enumerate(os.listdir(path)):\n",
    "        p = os.path.join(path, name)\n",
    "        files = os.listdir(p)\n",
    "        imag = [file for file in files if file.lower().endswith(('.jpg'))]\n",
    "        for image in imag:            \n",
    "            image_path = os.path.join(p, image)\n",
    "            im = Image.open(image_path).convert(\"RGB\")\n",
    "            im = clean(im)\n",
    "            im = im.unsqueeze(0) # create a mini-batch as expected by the model\n",
    "            im=resnet18_ls(im).squeeze().detach().numpy()\n",
    "            images.append(im)\n",
    "            breeds.append(i)\n",
    "    return images,breeds"
   ]
  },
  {
   "cell_type": "code",
   "execution_count": 11,
   "id": "cf6eda10-a3dd-45b7-8c25-ad590f080e3f",
   "metadata": {},
   "outputs": [],
   "source": [
    "images,breeds=get_images_and_breeds(CROPPED_PATH)\n",
    "images = np.array(images)\n",
    "breeds  = np.array(breeds)"
   ]
  },
  {
   "cell_type": "code",
   "execution_count": 13,
   "id": "cce2cd5f-b975-4405-9c4e-88c7ab4f31f0",
   "metadata": {},
   "outputs": [],
   "source": [
    "from sklearn.decomposition import PCA\n",
    "pca_model=PCA(2)\n",
    "pca_output=pca_model.fit_transform(images)"
   ]
  },
  {
   "cell_type": "code",
   "execution_count": null,
   "id": "f0410b52-7213-4b43-8365-9a32f9f00600",
   "metadata": {},
   "outputs": [],
   "source": []
  },
  {
   "cell_type": "code",
   "execution_count": 53,
   "id": "e1e31ebe-0f4d-4661-85c7-1b805ceb7e78",
   "metadata": {},
   "outputs": [],
   "source": [
    "fowlkes_scores=[]\n",
    "silhouette_scores=[]"
   ]
  },
  {
   "cell_type": "code",
   "execution_count": 54,
   "id": "ab229524-6d52-4dee-8eca-ac802bd9d0f4",
   "metadata": {},
   "outputs": [],
   "source": [
    "from sklearn.cluster import KMeans,BisectingKMeans,SpectralClustering,AgglomerativeClustering\n",
    "from sklearn.metrics import silhouette_score,fowlkes_mallows_score\n",
    "\n",
    "\n",
    "kmeans = KMeans(n_clusters=4, random_state=42, init=\"random\").fit(pca_output)\n",
    "fowlkes_scores.append((fowlkes_mallows_score(breeds,kmeans.labels_),'kmeans_random'))\n",
    "silhouette_scores.append((silhouette_score(pca_output,kmeans.labels_),'kmeans_random'))"
   ]
  },
  {
   "cell_type": "code",
   "execution_count": 55,
   "id": "1c838132-264d-4182-8b13-47d6672d8531",
   "metadata": {},
   "outputs": [],
   "source": [
    "kmeans_2 = KMeans(n_clusters=4, init='k-means++', random_state=42).fit(pca_output)\n",
    "fowlkes_scores.append((fowlkes_mallows_score(breeds,kmeans_2.labels_),'kmeans_++'))\n",
    "silhouette_scores.append((silhouette_score(pca_output,kmeans_2.labels_),'kmeans_++'))\n"
   ]
  },
  {
   "cell_type": "code",
   "execution_count": 56,
   "id": "88961257-c3e6-41af-b6fa-fe6231d2fe26",
   "metadata": {},
   "outputs": [],
   "source": [
    "Bikmeans=  BisectingKMeans(n_clusters=4, init='random', random_state=42).fit(pca_output)\n",
    "fowlkes_scores.append((fowlkes_mallows_score(breeds,Bikmeans.labels_),'bisecting'))\n",
    "silhouette_scores.append((silhouette_score(pca_output,Bikmeans.labels_),'bisecting'))\n"
   ]
  },
  {
   "cell_type": "code",
   "execution_count": 57,
   "id": "cfd65a93-0dfd-4923-881f-d4ee557d8eb2",
   "metadata": {},
   "outputs": [],
   "source": [
    "speclus= SpectralClustering(n_clusters=4, random_state=42).fit(pca_output)\n",
    "fowlkes_scores.append((fowlkes_mallows_score(breeds,speclus.labels_),'spectral'))\n",
    "silhouette_scores.append((silhouette_score(pca_output,speclus.labels_),'spectral'))\n"
   ]
  },
  {
   "cell_type": "code",
   "execution_count": 58,
   "id": "76f4645b-d865-492e-9312-e61247531c81",
   "metadata": {},
   "outputs": [],
   "source": [
    "single = AgglomerativeClustering(n_clusters=4, linkage='single').fit(pca_output)\n",
    "fowlkes_scores.append((fowlkes_mallows_score(breeds,single.labels_),'single_link'))\n",
    "silhouette_scores.append((silhouette_score(pca_output,single.labels_),'single_link'))\n"
   ]
  },
  {
   "cell_type": "code",
   "execution_count": 59,
   "id": "51bcb838-7bef-4023-8ca8-d101a59bee6f",
   "metadata": {},
   "outputs": [],
   "source": [
    "complete = AgglomerativeClustering(n_clusters=4, linkage='complete').fit(pca_output)\n",
    "fowlkes_scores.append((fowlkes_mallows_score(breeds,complete.labels_),'complete_link'))\n",
    "silhouette_scores.append((silhouette_score(pca_output,complete.labels_),'complete_link'))\n"
   ]
  },
  {
   "cell_type": "code",
   "execution_count": 60,
   "id": "d94ae63c-317c-400d-824a-8114c9467aee",
   "metadata": {},
   "outputs": [],
   "source": [
    "average = AgglomerativeClustering(n_clusters=4, linkage='average').fit(pca_output)\n",
    "fowlkes_scores.append((fowlkes_mallows_score(breeds,average.labels_),'average_link'))\n",
    "silhouette_scores.append((silhouette_score(pca_output,average.labels_),'average_link'))\n"
   ]
  },
  {
   "cell_type": "code",
   "execution_count": 61,
   "id": "a723cdca-b8df-449d-bbee-40c90bde0fdf",
   "metadata": {},
   "outputs": [],
   "source": [
    "ward = AgglomerativeClustering(n_clusters=4, linkage='ward').fit(pca_output)\n",
    "fowlkes_scores.append((fowlkes_mallows_score(breeds,ward.labels_),'ward_link'))\n",
    "silhouette_scores.append((silhouette_score(pca_output,ward.labels_),'ward_link'))\n"
   ]
  },
  {
   "cell_type": "code",
   "execution_count": 62,
   "id": "52a359cc-4636-402f-9ee1-a2f6b0fd8db5",
   "metadata": {},
   "outputs": [
    {
     "name": "stdout",
     "output_type": "stream",
     "text": [
      "Number of clusters: 4\n"
     ]
    }
   ],
   "source": [
    "from sklearn.cluster import DBSCAN\n",
    "dbscan = DBSCAN(eps=0.03, min_samples=15).fit(pca_output)\n",
    "fowlkes_scores.append((fowlkes_mallows_score(breeds,dbscan.labels_),'dbscan'))\n",
    "silhouette_scores.append((silhouette_score(pca_output,dbscan.labels_),'dbscan'))\n",
    "clusters = len(set(dbscan.labels_)) - (1 if -1 in dbscan.labels_ else 0)\n",
    "print(f\"Number of clusters: {clusters}\")"
   ]
  },
  {
   "cell_type": "code",
   "execution_count": 64,
   "id": "5f581627-c5ea-4fc3-a427-cbdcda5a31ba",
   "metadata": {},
   "outputs": [
    {
     "data": {
      "text/plain": [
       "([(0.3446264024179339, 'kmeans_random'),\n",
       "  (0.3438466572371958, 'kmeans_++'),\n",
       "  (0.34553442000855705, 'bisecting'),\n",
       "  (0.38845112624769584, 'spectral'),\n",
       "  (0.501976775386379, 'single_link'),\n",
       "  (0.35491813006521516, 'complete_link'),\n",
       "  (0.4608464826702657, 'average_link'),\n",
       "  (0.35726030617945054, 'ward_link'),\n",
       "  (0.3700139652859362, 'dbscan')],\n",
       " [(0.35777664, 'kmeans_random'),\n",
       "  (0.3574599, 'kmeans_++'),\n",
       "  (0.32976735, 'bisecting'),\n",
       "  (0.33306286, 'spectral'),\n",
       "  (0.26334122, 'single_link'),\n",
       "  (0.25019923, 'complete_link'),\n",
       "  (0.25283995, 'average_link'),\n",
       "  (0.33225697, 'ward_link'),\n",
       "  (-0.22010207, 'dbscan')])"
      ]
     },
     "execution_count": 64,
     "metadata": {},
     "output_type": "execute_result"
    }
   ],
   "source": [
    "fowlkes_scores,silhouette_scores"
   ]
  },
  {
   "cell_type": "markdown",
   "id": "beaedbd5-4526-4040-9662-2591b00e747d",
   "metadata": {},
   "source": [
    "Best to worst fowlkes_scorws of our models in order:"
   ]
  },
  {
   "cell_type": "code",
   "execution_count": 66,
   "id": "9bdc01bf-a4b3-4849-aaa9-2ef2bfa9a262",
   "metadata": {},
   "outputs": [
    {
     "data": {
      "text/plain": [
       "[(0.501976775386379, 'single_link'),\n",
       " (0.4608464826702657, 'average_link'),\n",
       " (0.38845112624769584, 'spectral'),\n",
       " (0.3700139652859362, 'dbscan'),\n",
       " (0.35726030617945054, 'ward_link'),\n",
       " (0.35491813006521516, 'complete_link'),\n",
       " (0.34553442000855705, 'bisecting'),\n",
       " (0.3446264024179339, 'kmeans_random'),\n",
       " (0.3438466572371958, 'kmeans_++')]"
      ]
     },
     "execution_count": 66,
     "metadata": {},
     "output_type": "execute_result"
    }
   ],
   "source": [
    "sorted(fowlkes_scores,key=lambda x:x[0],reverse=True)"
   ]
  },
  {
   "cell_type": "markdown",
   "id": "9a727939-6667-44be-9cf1-7e26d43e47c6",
   "metadata": {},
   "source": [
    "Best to worst silhouette scores of our models in order :"
   ]
  },
  {
   "cell_type": "code",
   "execution_count": 67,
   "id": "a3646693-81dd-4e4b-8fee-cc7340f0dd66",
   "metadata": {},
   "outputs": [
    {
     "data": {
      "text/plain": [
       "[(0.35777664, 'kmeans_random'),\n",
       " (0.3574599, 'kmeans_++'),\n",
       " (0.33306286, 'spectral'),\n",
       " (0.33225697, 'ward_link'),\n",
       " (0.32976735, 'bisecting'),\n",
       " (0.26334122, 'single_link'),\n",
       " (0.25283995, 'average_link'),\n",
       " (0.25019923, 'complete_link'),\n",
       " (-0.22010207, 'dbscan')]"
      ]
     },
     "execution_count": 67,
     "metadata": {},
     "output_type": "execute_result"
    }
   ],
   "source": [
    "sorted(silhouette_scores,key=lambda x:x[0],reverse=True)"
   ]
  },
  {
   "cell_type": "markdown",
   "id": "2c8f9f4f-344a-4a25-a11c-11c54d3a05af",
   "metadata": {},
   "source": [
    "reference :\n",
    "    https://scikit-learn.org/stable/modules/generated/sklearn.cluster.KMeans.html\n",
    "    \n",
    "    https://discuss.pytorch.org/t/nn-sequential-of-the-children-of-a-model-has-different-output-than-that-model/149283\n",
    "    \n",
    "    https://pytorch.org/hub/pytorch_vision_resnet/\n",
    "    \n",
    "    \n",
    "    \n",
    "    \n",
    "    \n",
    "\n"
   ]
  },
  {
   "cell_type": "code",
   "execution_count": null,
   "id": "ebb7fa3a-f09d-40e8-8caf-f920b10792fa",
   "metadata": {},
   "outputs": [],
   "source": []
  },
  {
   "cell_type": "code",
   "execution_count": null,
   "id": "7dffd1f1-2ed1-4507-b4b8-fc3e16604cec",
   "metadata": {},
   "outputs": [],
   "source": []
  },
  {
   "cell_type": "code",
   "execution_count": null,
   "id": "2e63062d-73ad-49d3-b847-afda72fea588",
   "metadata": {},
   "outputs": [],
   "source": []
  }
 ],
 "metadata": {
  "kernelspec": {
   "display_name": "Python 3 (ipykernel)",
   "language": "python",
   "name": "python3"
  },
  "language_info": {
   "codemirror_mode": {
    "name": "ipython",
    "version": 3
   },
   "file_extension": ".py",
   "mimetype": "text/x-python",
   "name": "python",
   "nbconvert_exporter": "python",
   "pygments_lexer": "ipython3",
   "version": "3.11.0"
  }
 },
 "nbformat": 4,
 "nbformat_minor": 5
}
